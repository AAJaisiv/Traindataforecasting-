{
 "cells": [
  {
   "cell_type": "code",
   "execution_count": 1,
   "id": "5877a658",
   "metadata": {},
   "outputs": [
    {
     "name": "stdout",
     "output_type": "stream",
     "text": [
      "MASE Score: 4.916357150679857\n"
     ]
    }
   ],
   "source": [
    "import pandas as pd\n",
    "from sklearn.model_selection import train_test_split\n",
    "from sklearn.ensemble import RandomForestRegressor\n",
    "from sklearn.metrics import mean_absolute_error\n",
    "import numpy as np\n",
    "\n",
    "# Function to calculate MASE\n",
    "def mean_absolute_scaled_error(y_true, y_pred, y_train):\n",
    "    n = len(y_train)\n",
    "    d = np.abs(np.diff(y_train)).sum() / (n - 1)\n",
    "    errors = np.abs(y_true - y_pred)\n",
    "    return errors.mean() / d\n",
    "\n",
    "# Loaded the adjusted train sales and validation data\n",
    "train_data_path = 'adjusted_train_sales_data.csv'\n",
    "validation_data_path = 'adjusted_train_sales_validation_data.csv'\n",
    "train_data = pd.read_csv(train_data_path)\n",
    "validation_data = pd.read_csv(validation_data_path)\n",
    "\n",
    "\n",
    "# Assuming 'days_to_departure' and 'train_type' are used as features\n",
    "train_features = train_data[['days_to_departure', 'train_type']]\n",
    "train_target = train_data['adjusted_simulated_bookings']\n",
    "validation_features = validation_data[['days_to_departure', 'train_type']]\n",
    "validation_target = validation_data['adjusted_simulated_bookings']\n",
    "\n",
    "# One-Hot Encoding for categorical variables (train_type)\n",
    "train_features = pd.get_dummies(train_features, columns=['train_type'])\n",
    "validation_features = pd.get_dummies(validation_features, columns=['train_type'])\n",
    "\n",
    "# Model Training and Forecasting\n",
    "model = RandomForestRegressor(n_estimators=100, random_state=0)\n",
    "model.fit(train_features, train_target)\n",
    "\n",
    "# Forecasting on the validation data\n",
    "predictions = model.predict(validation_features)\n",
    "\n",
    "# MASE Calculation\n",
    "mase_score = mean_absolute_scaled_error(validation_target, predictions, train_target)\n",
    "\n",
    "print(f'MASE Score: {mase_score}')\n"
   ]
  },
  {
   "cell_type": "code",
   "execution_count": null,
   "id": "18718623",
   "metadata": {},
   "outputs": [],
   "source": []
  }
 ],
 "metadata": {
  "kernelspec": {
   "display_name": "Python 3 (ipykernel)",
   "language": "python",
   "name": "python3"
  },
  "language_info": {
   "codemirror_mode": {
    "name": "ipython",
    "version": 3
   },
   "file_extension": ".py",
   "mimetype": "text/x-python",
   "name": "python",
   "nbconvert_exporter": "python",
   "pygments_lexer": "ipython3",
   "version": "3.11.5"
  }
 },
 "nbformat": 4,
 "nbformat_minor": 5
}
